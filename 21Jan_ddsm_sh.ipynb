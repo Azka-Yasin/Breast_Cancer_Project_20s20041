{
  "nbformat": 4,
  "nbformat_minor": 0,
  "metadata": {
    "colab": {
      "provenance": [],
      "gpuType": "A100",
      "machine_shape": "hm",
      "mount_file_id": "1JvGwkbVVg7HF2WfErrmLcgneriOGInny",
      "authorship_tag": "ABX9TyNgGIEMESPEQ/LDKl59VqZl",
      "include_colab_link": true
    },
    "kernelspec": {
      "name": "python3",
      "display_name": "Python 3"
    },
    "language_info": {
      "name": "python"
    },
    "accelerator": "GPU"
  },
  "cells": [
    {
      "cell_type": "markdown",
      "metadata": {
        "id": "view-in-github",
        "colab_type": "text"
      },
      "source": [
        "<a href=\"https://colab.research.google.com/github/Azka-Yasin/Breast_Cancer_Project_20s20041/blob/main/21Jan_ddsm_sh.ipynb\" target=\"_parent\"><img src=\"https://colab.research.google.com/assets/colab-badge.svg\" alt=\"Open In Colab\"/></a>"
      ]
    },
    {
      "cell_type": "code",
      "source": [
        "import os\n",
        "import numpy as np\n",
        "import tensorflow as tf\n",
        "import seaborn as sns\n",
        "import matplotlib.pyplot as plt\n",
        "from sklearn import metrics\n",
        "from sklearn.metrics import (\n",
        "    accuracy_score,\n",
        "    f1_score,\n",
        "    confusion_matrix,\n",
        "    precision_score,\n",
        "    recall_score,\n",
        "    classification_report,\n",
        ")\n",
        "from tensorflow import keras\n",
        "from keras.models import Sequential, load_model\n",
        "from keras.layers import Conv2D, MaxPooling2D, Flatten, Dense, Dropout, BatchNormalization\n",
        "from keras.optimizers import Adam\n",
        "from keras.callbacks import ModelCheckpoint, LearningRateScheduler\n",
        "from keras.preprocessing.image import ImageDataGenerator\n",
        "from google.colab import files"
      ],
      "metadata": {
        "id": "Nd3d6e70fxpD"
      },
      "execution_count": null,
      "outputs": []
    },
    {
      "cell_type": "code",
      "source": [
        "#Preprocess images using ImageDataGenerator\n",
        "def preprocessing_images(path, augmentation=False):\n",
        "    if augmentation:\n",
        "        image_data = ImageDataGenerator(\n",
        "            zoom_range=0.2,\n",
        "            shear_range=0.2,\n",
        "            rescale=1/255,\n",
        "            horizontal_flip=True,\n",
        "            rotation_range=20,\n",
        "            width_shift_range=0.2,\n",
        "            height_shift_range=0.2,\n",
        "            fill_mode='nearest'\n",
        "        )\n",
        "    else:\n",
        "        image_data = ImageDataGenerator(rescale=1/255)\n",
        "\n",
        "    image_generator = image_data.flow_from_directory(\n",
        "        directory=path,\n",
        "        target_size=(227, 227),\n",
        "        batch_size=32,\n",
        "        class_mode='binary'\n",
        "    )\n",
        "\n",
        "    return image_generator\n",
        "\n",
        "\n",
        "# Specify paths\n",
        "train_path = r\"/content/drive/MyDrive/DDSM/train\"\n",
        "test_path = r\"/content/drive/MyDrive/DDSM/test\"\n",
        "val_path = r\"/content/drive/MyDrive/DDSM/val\"\n",
        "\n",
        "# Data augmentation for training but not for validation set\n",
        "train_data = preprocessing_images(train_path, augmentation=True)\n",
        "val_data = preprocessing_images(val_path, augmentation=False)"
      ],
      "metadata": {
        "id": "6rjIxbyNhRMR",
        "colab": {
          "base_uri": "https://localhost:8080/"
        },
        "outputId": "77e907f7-9c6f-4c3a-bd5a-68955a9e71e0"
      },
      "execution_count": null,
      "outputs": [
        {
          "output_type": "stream",
          "name": "stdout",
          "text": [
            "Found 8433 images belonging to 2 classes.\n",
            "Found 1808 images belonging to 2 classes.\n"
          ]
        }
      ]
    },
    {
      "cell_type": "code",
      "source": [
        "# Model definition\n",
        "model = Sequential()\n",
        "model.add(Conv2D(64, (3, 3), activation='relu', input_shape=(227, 227, 3)))\n",
        "model.add(BatchNormalization())\n",
        "model.add(MaxPooling2D(pool_size=(2, 2)))\n",
        "\n",
        "model.add(Conv2D(128, (3, 3), activation='relu'))\n",
        "model.add(BatchNormalization())\n",
        "model.add(MaxPooling2D(pool_size=(2, 2)))\n",
        "\n",
        "model.add(Conv2D(256, (3, 3), activation='relu'))\n",
        "model.add(BatchNormalization())\n",
        "model.add(MaxPooling2D(pool_size=(2, 2)))\n",
        "\n",
        "model.add(Flatten())\n",
        "model.add(Dense(512, activation='relu'))\n",
        "model.add(Dropout(0.25))\n",
        "model.add(Dense(1, activation='sigmoid'))\n",
        "\n",
        "model.compile(optimizer=Adam(learning_rate=0.0001), loss='binary_crossentropy', metrics=['accuracy'])"
      ],
      "metadata": {
        "id": "X69Vv6qAkvYs"
      },
      "execution_count": null,
      "outputs": []
    },
    {
      "cell_type": "code",
      "source": [
        "# Model checkpoint\n",
        "mc = ModelCheckpoint(\n",
        "    monitor=\"val_accuracy\",\n",
        "    filepath=\"./21jan-ddsm-bestmodel.h5\",\n",
        "    verbose=1,\n",
        "    save_best_only=True,\n",
        "    mode='auto',\n",
        "    save_freq='epoch'\n",
        ")\n",
        "\n",
        "# Learning rate scheduler function\n",
        "def lr_schedule(epoch):\n",
        "    learning_rate = 1e-4\n",
        "    if epoch > 30:\n",
        "        learning_rate *= 1e-1\n",
        "    return learning_rate\n",
        "# Learning rate scheduler callback\n",
        "lr_scheduler = LearningRateScheduler(lr_schedule)\n",
        "\n",
        "# Training\n",
        "history = model.fit(\n",
        "    train_data,\n",
        "    steps_per_epoch=264,\n",
        "    epochs=50,\n",
        "    verbose=1,\n",
        "    validation_data=val_data,\n",
        "    validation_steps=57,\n",
        "    callbacks=[mc, lr_scheduler]\n",
        ")"
      ],
      "metadata": {
        "id": "v9D05lObD9mv",
        "colab": {
          "base_uri": "https://localhost:8080/"
        },
        "outputId": "25fb3a4c-2c9a-45dc-ee62-ac07876f4f02"
      },
      "execution_count": null,
      "outputs": [
        {
          "metadata": {
            "tags": null
          },
          "name": "stdout",
          "output_type": "stream",
          "text": [
            "Epoch 1/50\n",
            "264/264 [==============================] - ETA: 0s - loss: 0.9692 - accuracy: 0.6218\n",
            "Epoch 1: val_accuracy improved from -inf to 0.50055, saving model to ./21jan-ddsm-bestmodel.h5\n"
          ]
        },
        {
          "metadata": {
            "tags": null
          },
          "name": "stderr",
          "output_type": "stream",
          "text": [
            "/usr/local/lib/python3.10/dist-packages/keras/src/engine/training.py:3103: UserWarning: You are saving your model as an HDF5 file via `model.save()`. This file format is considered legacy. We recommend using instead the native Keras format, e.g. `model.save('my_model.keras')`.\n",
            "  saving_api.save_model(\n"
          ]
        },
        {
          "output_type": "stream",
          "name": "stdout",
          "text": [
            "264/264 [==============================] - 2166s 8s/step - loss: 0.9692 - accuracy: 0.6218 - val_loss: 4.3991 - val_accuracy: 0.5006 - lr: 1.0000e-04\n",
            "Epoch 2/50\n",
            "264/264 [==============================] - ETA: 0s - loss: 0.4616 - accuracy: 0.7742\n",
            "Epoch 2: val_accuracy improved from 0.50055 to 0.72732, saving model to ./21jan-ddsm-bestmodel.h5\n",
            "264/264 [==============================] - 121s 460ms/step - loss: 0.4616 - accuracy: 0.7742 - val_loss: 0.5820 - val_accuracy: 0.7273 - lr: 1.0000e-04\n",
            "Epoch 3/50\n",
            "264/264 [==============================] - ETA: 0s - loss: 0.3752 - accuracy: 0.8298\n",
            "Epoch 3: val_accuracy improved from 0.72732 to 0.95852, saving model to ./21jan-ddsm-bestmodel.h5\n",
            "264/264 [==============================] - 123s 467ms/step - loss: 0.3752 - accuracy: 0.8298 - val_loss: 0.1454 - val_accuracy: 0.9585 - lr: 1.0000e-04\n",
            "Epoch 4/50\n",
            "264/264 [==============================] - ETA: 0s - loss: 0.3545 - accuracy: 0.8477\n",
            "Epoch 4: val_accuracy did not improve from 0.95852\n",
            "264/264 [==============================] - 118s 448ms/step - loss: 0.3545 - accuracy: 0.8477 - val_loss: 0.1727 - val_accuracy: 0.9497 - lr: 1.0000e-04\n",
            "Epoch 5/50\n",
            "264/264 [==============================] - ETA: 0s - loss: 0.3376 - accuracy: 0.8583\n",
            "Epoch 5: val_accuracy did not improve from 0.95852\n",
            "264/264 [==============================] - 117s 444ms/step - loss: 0.3376 - accuracy: 0.8583 - val_loss: 0.1210 - val_accuracy: 0.9574 - lr: 1.0000e-04\n",
            "Epoch 6/50\n",
            "264/264 [==============================] - ETA: 0s - loss: 0.2997 - accuracy: 0.8654\n",
            "Epoch 6: val_accuracy did not improve from 0.95852\n",
            "264/264 [==============================] - 117s 443ms/step - loss: 0.2997 - accuracy: 0.8654 - val_loss: 0.1184 - val_accuracy: 0.9569 - lr: 1.0000e-04\n",
            "Epoch 7/50\n",
            "264/264 [==============================] - ETA: 0s - loss: 0.2781 - accuracy: 0.8847\n",
            "Epoch 7: val_accuracy improved from 0.95852 to 0.97179, saving model to ./21jan-ddsm-bestmodel.h5\n",
            "264/264 [==============================] - 120s 454ms/step - loss: 0.2781 - accuracy: 0.8847 - val_loss: 0.0742 - val_accuracy: 0.9718 - lr: 1.0000e-04\n",
            "Epoch 8/50\n",
            "264/264 [==============================] - ETA: 0s - loss: 0.2517 - accuracy: 0.8968\n",
            "Epoch 8: val_accuracy did not improve from 0.97179\n",
            "264/264 [==============================] - 121s 457ms/step - loss: 0.2517 - accuracy: 0.8968 - val_loss: 0.0843 - val_accuracy: 0.9679 - lr: 1.0000e-04\n",
            "Epoch 9/50\n",
            "264/264 [==============================] - ETA: 0s - loss: 0.2340 - accuracy: 0.9051\n",
            "Epoch 9: val_accuracy did not improve from 0.97179\n",
            "264/264 [==============================] - 117s 442ms/step - loss: 0.2340 - accuracy: 0.9051 - val_loss: 0.0816 - val_accuracy: 0.9707 - lr: 1.0000e-04\n",
            "Epoch 10/50\n",
            "264/264 [==============================] - ETA: 0s - loss: 0.2294 - accuracy: 0.9037\n",
            "Epoch 10: val_accuracy improved from 0.97179 to 0.98341, saving model to ./21jan-ddsm-bestmodel.h5\n",
            "264/264 [==============================] - 119s 450ms/step - loss: 0.2294 - accuracy: 0.9037 - val_loss: 0.0504 - val_accuracy: 0.9834 - lr: 1.0000e-04\n",
            "Epoch 11/50\n",
            "264/264 [==============================] - ETA: 0s - loss: 0.2129 - accuracy: 0.9152\n",
            "Epoch 11: val_accuracy did not improve from 0.98341\n",
            "264/264 [==============================] - 120s 443ms/step - loss: 0.2129 - accuracy: 0.9152 - val_loss: 0.0724 - val_accuracy: 0.9795 - lr: 1.0000e-04\n",
            "Epoch 12/50\n",
            "264/264 [==============================] - ETA: 0s - loss: 0.1971 - accuracy: 0.9215\n",
            "Epoch 12: val_accuracy improved from 0.98341 to 0.98838, saving model to ./21jan-ddsm-bestmodel.h5\n",
            "264/264 [==============================] - 119s 451ms/step - loss: 0.1971 - accuracy: 0.9215 - val_loss: 0.0357 - val_accuracy: 0.9884 - lr: 1.0000e-04\n",
            "Epoch 13/50\n",
            "264/264 [==============================] - ETA: 0s - loss: 0.1843 - accuracy: 0.9300\n",
            "Epoch 13: val_accuracy did not improve from 0.98838\n",
            "264/264 [==============================] - 121s 457ms/step - loss: 0.1843 - accuracy: 0.9300 - val_loss: 0.2645 - val_accuracy: 0.9347 - lr: 1.0000e-04\n",
            "Epoch 14/50\n",
            "264/264 [==============================] - ETA: 0s - loss: 0.1755 - accuracy: 0.9344\n",
            "Epoch 14: val_accuracy did not improve from 0.98838\n",
            "264/264 [==============================] - 118s 446ms/step - loss: 0.1755 - accuracy: 0.9344 - val_loss: 0.0473 - val_accuracy: 0.9862 - lr: 1.0000e-04\n",
            "Epoch 15/50\n",
            "264/264 [==============================] - ETA: 0s - loss: 0.1932 - accuracy: 0.9298\n",
            "Epoch 15: val_accuracy did not improve from 0.98838\n",
            "264/264 [==============================] - 117s 443ms/step - loss: 0.1932 - accuracy: 0.9298 - val_loss: 0.0995 - val_accuracy: 0.9574 - lr: 1.0000e-04\n",
            "Epoch 16/50\n",
            "264/264 [==============================] - ETA: 0s - loss: 0.1715 - accuracy: 0.9389\n",
            "Epoch 16: val_accuracy did not improve from 0.98838\n",
            "264/264 [==============================] - 118s 446ms/step - loss: 0.1715 - accuracy: 0.9389 - val_loss: 0.0527 - val_accuracy: 0.9817 - lr: 1.0000e-04\n",
            "Epoch 17/50\n",
            "264/264 [==============================] - ETA: 0s - loss: 0.1595 - accuracy: 0.9427\n",
            "Epoch 17: val_accuracy did not improve from 0.98838\n",
            "264/264 [==============================] - 117s 442ms/step - loss: 0.1595 - accuracy: 0.9427 - val_loss: 0.0935 - val_accuracy: 0.9723 - lr: 1.0000e-04\n",
            "Epoch 18/50\n",
            "264/264 [==============================] - ETA: 0s - loss: 0.1418 - accuracy: 0.9479\n",
            "Epoch 18: val_accuracy did not improve from 0.98838\n",
            "264/264 [==============================] - 116s 441ms/step - loss: 0.1418 - accuracy: 0.9479 - val_loss: 0.0936 - val_accuracy: 0.9652 - lr: 1.0000e-04\n",
            "Epoch 19/50\n",
            "264/264 [==============================] - ETA: 0s - loss: 0.1507 - accuracy: 0.9457\n",
            "Epoch 19: val_accuracy did not improve from 0.98838\n",
            "264/264 [==============================] - 117s 444ms/step - loss: 0.1507 - accuracy: 0.9457 - val_loss: 0.1427 - val_accuracy: 0.9530 - lr: 1.0000e-04\n",
            "Epoch 20/50\n",
            "264/264 [==============================] - ETA: 0s - loss: 0.1303 - accuracy: 0.9548\n",
            "Epoch 20: val_accuracy did not improve from 0.98838\n",
            "264/264 [==============================] - 117s 443ms/step - loss: 0.1303 - accuracy: 0.9548 - val_loss: 0.0478 - val_accuracy: 0.9812 - lr: 1.0000e-04\n",
            "Epoch 21/50\n",
            "264/264 [==============================] - ETA: 0s - loss: 0.1204 - accuracy: 0.9530\n",
            "Epoch 21: val_accuracy did not improve from 0.98838\n",
            "264/264 [==============================] - 116s 439ms/step - loss: 0.1204 - accuracy: 0.9530 - val_loss: 0.0286 - val_accuracy: 0.9884 - lr: 1.0000e-04\n",
            "Epoch 22/50\n",
            "264/264 [==============================] - ETA: 0s - loss: 0.1052 - accuracy: 0.9642\n",
            "Epoch 22: val_accuracy did not improve from 0.98838\n",
            "264/264 [==============================] - 116s 439ms/step - loss: 0.1052 - accuracy: 0.9642 - val_loss: 0.0524 - val_accuracy: 0.9790 - lr: 1.0000e-04\n",
            "Epoch 23/50\n",
            "264/264 [==============================] - ETA: 0s - loss: 0.1097 - accuracy: 0.9591\n",
            "Epoch 23: val_accuracy improved from 0.98838 to 0.98949, saving model to ./21jan-ddsm-bestmodel.h5\n",
            "264/264 [==============================] - 119s 449ms/step - loss: 0.1097 - accuracy: 0.9591 - val_loss: 0.0332 - val_accuracy: 0.9895 - lr: 1.0000e-04\n",
            "Epoch 24/50\n",
            "264/264 [==============================] - ETA: 0s - loss: 0.1027 - accuracy: 0.9624\n",
            "Epoch 24: val_accuracy did not improve from 0.98949\n",
            "264/264 [==============================] - 119s 440ms/step - loss: 0.1027 - accuracy: 0.9624 - val_loss: 0.1039 - val_accuracy: 0.9746 - lr: 1.0000e-04\n",
            "Epoch 25/50\n",
            "264/264 [==============================] - ETA: 0s - loss: 0.1048 - accuracy: 0.9630\n",
            "Epoch 25: val_accuracy did not improve from 0.98949\n",
            "264/264 [==============================] - 116s 441ms/step - loss: 0.1048 - accuracy: 0.9630 - val_loss: 0.0449 - val_accuracy: 0.9834 - lr: 1.0000e-04\n",
            "Epoch 26/50\n",
            "264/264 [==============================] - ETA: 0s - loss: 0.1075 - accuracy: 0.9661\n",
            "Epoch 26: val_accuracy did not improve from 0.98949\n",
            "264/264 [==============================] - 116s 441ms/step - loss: 0.1075 - accuracy: 0.9661 - val_loss: 0.0401 - val_accuracy: 0.9840 - lr: 1.0000e-04\n",
            "Epoch 27/50\n",
            "264/264 [==============================] - ETA: 0s - loss: 0.0931 - accuracy: 0.9676\n",
            "Epoch 27: val_accuracy improved from 0.98949 to 0.99723, saving model to ./21jan-ddsm-bestmodel.h5\n",
            "264/264 [==============================] - 118s 448ms/step - loss: 0.0931 - accuracy: 0.9676 - val_loss: 0.0109 - val_accuracy: 0.9972 - lr: 1.0000e-04\n",
            "Epoch 28/50\n",
            "264/264 [==============================] - ETA: 0s - loss: 0.0832 - accuracy: 0.9721\n",
            "Epoch 28: val_accuracy improved from 0.99723 to 0.99889, saving model to ./21jan-ddsm-bestmodel.h5\n",
            "264/264 [==============================] - 121s 450ms/step - loss: 0.0832 - accuracy: 0.9721 - val_loss: 0.0051 - val_accuracy: 0.9989 - lr: 1.0000e-04\n",
            "Epoch 29/50\n",
            "264/264 [==============================] - ETA: 0s - loss: 0.0812 - accuracy: 0.9727\n",
            "Epoch 29: val_accuracy did not improve from 0.99889\n",
            "264/264 [==============================] - 119s 451ms/step - loss: 0.0812 - accuracy: 0.9727 - val_loss: 0.0130 - val_accuracy: 0.9945 - lr: 1.0000e-04\n",
            "Epoch 30/50\n",
            "264/264 [==============================] - ETA: 0s - loss: 0.0800 - accuracy: 0.9705\n",
            "Epoch 30: val_accuracy did not improve from 0.99889\n",
            "264/264 [==============================] - 117s 445ms/step - loss: 0.0800 - accuracy: 0.9705 - val_loss: 0.0123 - val_accuracy: 0.9967 - lr: 1.0000e-04\n",
            "Epoch 31/50\n",
            "264/264 [==============================] - ETA: 0s - loss: 0.0702 - accuracy: 0.9743\n",
            "Epoch 31: val_accuracy did not improve from 0.99889\n",
            "264/264 [==============================] - 118s 445ms/step - loss: 0.0702 - accuracy: 0.9743 - val_loss: 0.0527 - val_accuracy: 0.9795 - lr: 1.0000e-04\n",
            "Epoch 32/50\n",
            "264/264 [==============================] - ETA: 0s - loss: 0.0756 - accuracy: 0.9749\n",
            "Epoch 32: val_accuracy did not improve from 0.99889\n",
            "264/264 [==============================] - 120s 456ms/step - loss: 0.0756 - accuracy: 0.9749 - val_loss: 0.0049 - val_accuracy: 0.9989 - lr: 1.0000e-05\n",
            "Epoch 33/50\n",
            "264/264 [==============================] - ETA: 0s - loss: 0.0504 - accuracy: 0.9833\n",
            "Epoch 33: val_accuracy improved from 0.99889 to 0.99945, saving model to ./21jan-ddsm-bestmodel.h5\n",
            "264/264 [==============================] - 124s 471ms/step - loss: 0.0504 - accuracy: 0.9833 - val_loss: 0.0031 - val_accuracy: 0.9994 - lr: 1.0000e-05\n",
            "Epoch 34/50\n",
            "264/264 [==============================] - ETA: 0s - loss: 0.0464 - accuracy: 0.9835\n",
            "Epoch 34: val_accuracy did not improve from 0.99945\n",
            "264/264 [==============================] - 126s 477ms/step - loss: 0.0464 - accuracy: 0.9835 - val_loss: 0.0033 - val_accuracy: 0.9994 - lr: 1.0000e-05\n",
            "Epoch 35/50\n",
            "264/264 [==============================] - ETA: 0s - loss: 0.0474 - accuracy: 0.9842\n",
            "Epoch 35: val_accuracy did not improve from 0.99945\n",
            "264/264 [==============================] - 122s 463ms/step - loss: 0.0474 - accuracy: 0.9842 - val_loss: 0.0037 - val_accuracy: 0.9989 - lr: 1.0000e-05\n",
            "Epoch 36/50\n",
            "264/264 [==============================] - ETA: 0s - loss: 0.0446 - accuracy: 0.9843\n",
            "Epoch 36: val_accuracy improved from 0.99945 to 1.00000, saving model to ./21jan-ddsm-bestmodel.h5\n",
            "264/264 [==============================] - 125s 473ms/step - loss: 0.0446 - accuracy: 0.9843 - val_loss: 0.0028 - val_accuracy: 1.0000 - lr: 1.0000e-05\n",
            "Epoch 37/50\n",
            "264/264 [==============================] - ETA: 0s - loss: 0.0430 - accuracy: 0.9855\n",
            "Epoch 37: val_accuracy did not improve from 1.00000\n",
            "264/264 [==============================] - 126s 476ms/step - loss: 0.0430 - accuracy: 0.9855 - val_loss: 0.0027 - val_accuracy: 1.0000 - lr: 1.0000e-05\n",
            "Epoch 38/50\n",
            "264/264 [==============================] - ETA: 0s - loss: 0.0454 - accuracy: 0.9842\n",
            "Epoch 38: val_accuracy did not improve from 1.00000\n",
            "264/264 [==============================] - 123s 467ms/step - loss: 0.0454 - accuracy: 0.9842 - val_loss: 0.0098 - val_accuracy: 0.9961 - lr: 1.0000e-05\n",
            "Epoch 39/50\n",
            "264/264 [==============================] - ETA: 0s - loss: 0.0430 - accuracy: 0.9860\n",
            "Epoch 39: val_accuracy did not improve from 1.00000\n",
            "264/264 [==============================] - 123s 464ms/step - loss: 0.0430 - accuracy: 0.9860 - val_loss: 0.0028 - val_accuracy: 0.9994 - lr: 1.0000e-05\n",
            "Epoch 40/50\n",
            "264/264 [==============================] - ETA: 0s - loss: 0.0451 - accuracy: 0.9853\n",
            "Epoch 40: val_accuracy did not improve from 1.00000\n",
            "264/264 [==============================] - 124s 471ms/step - loss: 0.0451 - accuracy: 0.9853 - val_loss: 0.0019 - val_accuracy: 1.0000 - lr: 1.0000e-05\n",
            "Epoch 41/50\n",
            "264/264 [==============================] - ETA: 0s - loss: 0.0445 - accuracy: 0.9857\n",
            "Epoch 41: val_accuracy did not improve from 1.00000\n",
            "264/264 [==============================] - 123s 466ms/step - loss: 0.0445 - accuracy: 0.9857 - val_loss: 0.0034 - val_accuracy: 0.9989 - lr: 1.0000e-05\n",
            "Epoch 42/50\n",
            "264/264 [==============================] - ETA: 0s - loss: 0.0383 - accuracy: 0.9879\n",
            "Epoch 42: val_accuracy did not improve from 1.00000\n",
            "264/264 [==============================] - 123s 465ms/step - loss: 0.0383 - accuracy: 0.9879 - val_loss: 0.0027 - val_accuracy: 1.0000 - lr: 1.0000e-05\n",
            "Epoch 43/50\n",
            "264/264 [==============================] - ETA: 0s - loss: 0.0438 - accuracy: 0.9853\n",
            "Epoch 43: val_accuracy did not improve from 1.00000\n",
            "264/264 [==============================] - 124s 468ms/step - loss: 0.0438 - accuracy: 0.9853 - val_loss: 0.0025 - val_accuracy: 1.0000 - lr: 1.0000e-05\n",
            "Epoch 44/50\n",
            "264/264 [==============================] - ETA: 0s - loss: 0.0390 - accuracy: 0.9872\n",
            "Epoch 44: val_accuracy did not improve from 1.00000\n",
            "264/264 [==============================] - 123s 467ms/step - loss: 0.0390 - accuracy: 0.9872 - val_loss: 0.0031 - val_accuracy: 0.9994 - lr: 1.0000e-05\n",
            "Epoch 45/50\n",
            "264/264 [==============================] - ETA: 0s - loss: 0.0380 - accuracy: 0.9872\n",
            "Epoch 45: val_accuracy did not improve from 1.00000\n",
            "264/264 [==============================] - 123s 466ms/step - loss: 0.0380 - accuracy: 0.9872 - val_loss: 0.0017 - val_accuracy: 1.0000 - lr: 1.0000e-05\n",
            "Epoch 46/50\n",
            "264/264 [==============================] - ETA: 0s - loss: 0.0384 - accuracy: 0.9883\n",
            "Epoch 46: val_accuracy did not improve from 1.00000\n",
            "264/264 [==============================] - 123s 467ms/step - loss: 0.0384 - accuracy: 0.9883 - val_loss: 0.0018 - val_accuracy: 1.0000 - lr: 1.0000e-05\n",
            "Epoch 47/50\n",
            "264/264 [==============================] - ETA: 0s - loss: 0.0367 - accuracy: 0.9883\n",
            "Epoch 47: val_accuracy did not improve from 1.00000\n",
            "264/264 [==============================] - 119s 449ms/step - loss: 0.0367 - accuracy: 0.9883 - val_loss: 0.0012 - val_accuracy: 1.0000 - lr: 1.0000e-05\n",
            "Epoch 48/50\n",
            "264/264 [==============================] - ETA: 0s - loss: 0.0357 - accuracy: 0.9880\n",
            "Epoch 48: val_accuracy did not improve from 1.00000\n",
            "264/264 [==============================] - 120s 453ms/step - loss: 0.0357 - accuracy: 0.9880 - val_loss: 0.0014 - val_accuracy: 1.0000 - lr: 1.0000e-05\n",
            "Epoch 49/50\n",
            "264/264 [==============================] - ETA: 0s - loss: 0.0360 - accuracy: 0.9875\n",
            "Epoch 49: val_accuracy did not improve from 1.00000\n",
            "264/264 [==============================] - 121s 457ms/step - loss: 0.0360 - accuracy: 0.9875 - val_loss: 0.0021 - val_accuracy: 0.9994 - lr: 1.0000e-05\n",
            "Epoch 50/50\n",
            "264/264 [==============================] - ETA: 0s - loss: 0.0411 - accuracy: 0.9870\n",
            "Epoch 50: val_accuracy did not improve from 1.00000\n",
            "264/264 [==============================] - 120s 456ms/step - loss: 0.0411 - accuracy: 0.9870 - val_loss: 0.0025 - val_accuracy: 1.0000 - lr: 1.0000e-05\n"
          ]
        }
      ]
    },
    {
      "cell_type": "code",
      "source": [
        "# Save the best model\n",
        "model.save(\"/content/21jan-ddsm-bestmodel.h5\")\n",
        "\n",
        "# Download the best model\n",
        "files.download(\"/content/21jan-ddsm-bestmodel.h5\")"
      ],
      "metadata": {
        "id": "DPt4uPj7Etdh",
        "colab": {
          "base_uri": "https://localhost:8080/",
          "height": 34
        },
        "outputId": "abcedf8a-98ca-4b36-cb6c-df4ed8c8f82d"
      },
      "execution_count": null,
      "outputs": [
        {
          "output_type": "display_data",
          "data": {
            "text/plain": [
              "<IPython.core.display.Javascript object>"
            ],
            "application/javascript": [
              "\n",
              "    async function download(id, filename, size) {\n",
              "      if (!google.colab.kernel.accessAllowed) {\n",
              "        return;\n",
              "      }\n",
              "      const div = document.createElement('div');\n",
              "      const label = document.createElement('label');\n",
              "      label.textContent = `Downloading \"${filename}\": `;\n",
              "      div.appendChild(label);\n",
              "      const progress = document.createElement('progress');\n",
              "      progress.max = size;\n",
              "      div.appendChild(progress);\n",
              "      document.body.appendChild(div);\n",
              "\n",
              "      const buffers = [];\n",
              "      let downloaded = 0;\n",
              "\n",
              "      const channel = await google.colab.kernel.comms.open(id);\n",
              "      // Send a message to notify the kernel that we're ready.\n",
              "      channel.send({})\n",
              "\n",
              "      for await (const message of channel.messages) {\n",
              "        // Send a message to notify the kernel that we're ready.\n",
              "        channel.send({})\n",
              "        if (message.buffers) {\n",
              "          for (const buffer of message.buffers) {\n",
              "            buffers.push(buffer);\n",
              "            downloaded += buffer.byteLength;\n",
              "            progress.value = downloaded;\n",
              "          }\n",
              "        }\n",
              "      }\n",
              "      const blob = new Blob(buffers, {type: 'application/binary'});\n",
              "      const a = document.createElement('a');\n",
              "      a.href = window.URL.createObjectURL(blob);\n",
              "      a.download = filename;\n",
              "      div.appendChild(a);\n",
              "      a.click();\n",
              "      div.remove();\n",
              "    }\n",
              "  "
            ]
          },
          "metadata": {}
        },
        {
          "output_type": "display_data",
          "data": {
            "text/plain": [
              "<IPython.core.display.Javascript object>"
            ],
            "application/javascript": [
              "download(\"download_028be3e7-1212-4683-bb89-1d38fa2a4a83\", \"21jan-ddsm-bestmodel.h5\", 1067808608)"
            ]
          },
          "metadata": {}
        }
      ]
    },
    {
      "cell_type": "code",
      "source": [
        "# Visualizations\n",
        "# Training vs Validation Loss Graph\n",
        "plt.figure(figsize=(12, 6))\n",
        "plt.plot(history.history['loss'], label='Training Loss')\n",
        "plt.plot(history.history['val_loss'], label='Validation Loss')\n",
        "plt.title('Training vs Validation Loss')\n",
        "plt.xlabel('Epochs')\n",
        "plt.ylabel('Loss')\n",
        "plt.legend()\n",
        "plt.savefig(\"/content/drive/MyDrive/DDSM/training_vs_validation_loss_21j.png\")\n",
        "plt.show()\n",
        "\n",
        "# Learning Curve\n",
        "plt.figure(figsize=(12, 6))\n",
        "plt.plot(history.history['accuracy'], label='Training Accuracy')\n",
        "plt.plot(history.history['val_accuracy'], label='Validation Accuracy')\n",
        "plt.title('Training vs Validation Accuracy')\n",
        "plt.xlabel('Epochs')\n",
        "plt.ylabel('Accuracy')\n",
        "plt.legend()\n",
        "plt.savefig(\"/content/drive/MyDrive/DDSM/training_vs_validation_accuracy_21j.png\")\n",
        "plt.show()"
      ],
      "metadata": {
        "id": "XSnKJkb6Fvmw",
        "colab": {
          "base_uri": "https://localhost:8080/",
          "height": 1111
        },
        "outputId": "2f9a9085-babb-49af-c87b-e828c50f131b"
      },
      "execution_count": null,
      "outputs": [
        {
          "output_type": "display_data",
          "data": {
            "text/plain": [
              "<Figure size 1200x600 with 1 Axes>"
            ],
            "image/png": "[encoded data removed]"
          },
          "metadata": {}
        },
        {
          "output_type": "display_data",
          "data": {
            "text/plain": [
              "<Figure size 1200x600 with 1 Axes>"
            ],
            "image/png": "[encoded data removed]"
          },
          "metadata": {}
        }
      ]
    },
    {
      "cell_type": "code",
      "source": [
        "# Load the best model\n",
        "model = load_model(\"/content/21jan-ddsm-bestmodel.h5\")"
      ],
      "metadata": {
        "id": "lttzLYsUF_3s"
      },
      "execution_count": null,
      "outputs": []
    },
    {
      "cell_type": "code",
      "execution_count": null,
      "metadata": {
        "id": "Vkfxc0n3d975",
        "colab": {
          "base_uri": "https://localhost:8080/",
          "height": 871
        },
        "outputId": "8a1910eb-155a-4dd5-8d0e-e9e89bd4224d"
      },
      "outputs": [
        {
          "output_type": "stream",
          "name": "stdout",
          "text": [
            "Found 1807 images belonging to 2 classes.\n",
            "57/57 [==============================] - 336s 6s/step - loss: 0.0000e+00 - accuracy: 0.0000e+00\n",
            "57/57 [==============================] - 7s 116ms/step\n",
            "\n",
            "Metrics:\n",
            "Accuracy: 0.9994\n",
            "Precision: 0.9989\n",
            "Recall: 1.0000\n",
            "F1 Score: 0.9995\n",
            "AUC-ROC: 1.0000\n",
            "Confusion Matrix:\n",
            "[[894   1]\n",
            " [  0 912]]\n",
            "Classification Report:\n",
            "              precision    recall  f1-score   support\n",
            "\n",
            "      benign       1.00      1.00      1.00       895\n",
            "   malignant       1.00      1.00      1.00       912\n",
            "\n",
            "    accuracy                           1.00      1807\n",
            "   macro avg       1.00      1.00      1.00      1807\n",
            "weighted avg       1.00      1.00      1.00      1807\n",
            "\n"
          ]
        },
        {
          "output_type": "display_data",
          "data": {
            "text/plain": [
              "<Figure size 640x480 with 2 Axes>"
            ],
            "image/png": "[encoded data removed]"
          },
          "metadata": {}
        }
      ],
      "source": [
        "# Evaluation on the Test Set\n",
        "# Create an ImageDataGenerator for rescaling\n",
        "test_data = ImageDataGenerator(rescale=1 / 255)\n",
        "\n",
        "test_generator = test_data.flow_from_directory(\n",
        "    directory=test_path,\n",
        "    target_size=(227, 227),\n",
        "    batch_size=32,\n",
        "    class_mode=None,  # Set to None for the test set\n",
        "    shuffle=False\n",
        ")\n",
        "\n",
        "# Calculate the number of steps for evaluation\n",
        "test_steps = int(np.ceil(test_generator.samples / test_generator.batch_size))\n",
        "\n",
        "# Evaluate the model\n",
        "test_loss, test_accuracy = model.evaluate(test_generator, steps=test_steps)\n",
        "\n",
        "# Predictions\n",
        "y_pred = model.predict(test_generator, steps=test_steps)\n",
        "y_true = test_generator.classes.astype(float)\n",
        "\n",
        "# Metrics\n",
        "accuracy = accuracy_score(y_true, np.round(y_pred))\n",
        "precision = precision_score(y_true, np.round(y_pred))\n",
        "recall = recall_score(y_true, np.round(y_pred))\n",
        "f1 = f1_score(y_true, np.round(y_pred))\n",
        "auc_roc = metrics.roc_auc_score(y_true, y_pred)\n",
        "\n",
        "print(\"\\nMetrics:\")\n",
        "print(f\"Accuracy: {accuracy:.4f}\")\n",
        "print(f\"Precision: {precision:.4f}\")\n",
        "print(f\"Recall: {recall:.4f}\")\n",
        "print(f\"F1 Score: {f1:.4f}\")\n",
        "print(f\"AUC-ROC: {auc_roc:.4f}\")\n",
        "\n",
        "# Confusion Matrix\n",
        "conf_matrix = confusion_matrix(y_true, np.round(y_pred))\n",
        "print(\"Confusion Matrix:\")\n",
        "print(conf_matrix)\n",
        "\n",
        "# Classification Report\n",
        "class_report = classification_report(y_true, np.round(y_pred), target_names=['benign', 'malignant'])\n",
        "print(\"Classification Report:\")\n",
        "print(class_report)\n",
        "\n",
        "# Heatmap\n",
        "sns.heatmap(conf_matrix, annot=True, fmt='d', cmap='Blues', xticklabels=['0', '1'], yticklabels=['0', '1'])\n",
        "plt.title('Confusion Matrix Heatmap')\n",
        "plt.xlabel('Predicted')\n",
        "plt.ylabel('True')\n",
        "plt.show()\n",
        "\n"
      ]
    },
    {
      "cell_type": "code",
      "source": [
        "#--------------------------------------------------------------------------"
      ],
      "metadata": {
        "id": "kwaYi3wWJDJV"
      },
      "execution_count": null,
      "outputs": []
    },
    {
      "cell_type": "code",
      "source": [
        "#native Keras format\n",
        "model.save('22jan-mias-bestmodel.keras')\n",
        "# Specify the path to the saved model file\n",
        "model_path2 = \"22jan-mias-bestmodel.keras\"\n",
        "\n",
        "# Trigger the download of the file\n",
        "files.download(model_path2)"
      ],
      "metadata": {
        "colab": {
          "base_uri": "https://localhost:8080/",
          "height": 34
        },
        "id": "9ILlpIiaezku",
        "outputId": "53bf9551-1309-4efb-92f2-d01c43509b4e"
      },
      "execution_count": null,
      "outputs": [
        {
          "output_type": "display_data",
          "data": {
            "text/plain": [
              "<IPython.core.display.Javascript object>"
            ],
            "application/javascript": [
              "\n",
              "    async function download(id, filename, size) {\n",
              "      if (!google.colab.kernel.accessAllowed) {\n",
              "        return;\n",
              "      }\n",
              "      const div = document.createElement('div');\n",
              "      const label = document.createElement('label');\n",
              "      label.textContent = `Downloading \"${filename}\": `;\n",
              "      div.appendChild(label);\n",
              "      const progress = document.createElement('progress');\n",
              "      progress.max = size;\n",
              "      div.appendChild(progress);\n",
              "      document.body.appendChild(div);\n",
              "\n",
              "      const buffers = [];\n",
              "      let downloaded = 0;\n",
              "\n",
              "      const channel = await google.colab.kernel.comms.open(id);\n",
              "      // Send a message to notify the kernel that we're ready.\n",
              "      channel.send({})\n",
              "\n",
              "      for await (const message of channel.messages) {\n",
              "        // Send a message to notify the kernel that we're ready.\n",
              "        channel.send({})\n",
              "        if (message.buffers) {\n",
              "          for (const buffer of message.buffers) {\n",
              "            buffers.push(buffer);\n",
              "            downloaded += buffer.byteLength;\n",
              "            progress.value = downloaded;\n",
              "          }\n",
              "        }\n",
              "      }\n",
              "      const blob = new Blob(buffers, {type: 'application/binary'});\n",
              "      const a = document.createElement('a');\n",
              "      a.href = window.URL.createObjectURL(blob);\n",
              "      a.download = filename;\n",
              "      div.appendChild(a);\n",
              "      a.click();\n",
              "      div.remove();\n",
              "    }\n",
              "  "
            ]
          },
          "metadata": {}
        },
        {
          "output_type": "display_data",
          "data": {
            "text/plain": [
              "<IPython.core.display.Javascript object>"
            ],
            "application/javascript": [
              "download(\"download_63206629-6e72-415b-8fb4-7bb8067aff29\", \"22jan-mias-bestmodel.keras\", 1067796522)"
            ]
          },
          "metadata": {}
        }
      ]
    },
    {
      "cell_type": "code",
      "source": [
        "#testing sharjah dataset\n",
        "test_data = ImageDataGenerator(rescale=1 / 255)\n",
        "\n",
        "test_generator = test_data.flow_from_directory(\n",
        "    directory=\"/content/drive/MyDrive/sharjah dataset/version 1/combined for 21J\",\n",
        "    target_size=(227, 227),\n",
        "    batch_size=32,\n",
        "    class_mode=None,\n",
        "    shuffle=False\n",
        ")\n",
        "\n",
        "# Calculate the number of steps for evaluation\n",
        "test_steps = int(np.ceil(test_generator.samples / test_generator.batch_size))\n",
        "\n",
        "# Evaluate the model\n",
        "test_loss, test_accuracy = model.evaluate(test_generator, steps=test_steps)\n",
        "\n",
        "# Predictions\n",
        "y_pred = model.predict(test_generator, steps=test_steps)\n",
        "y_true = test_generator.classes.astype(float)\n",
        "\n",
        "# Metrics\n",
        "accuracy = accuracy_score(y_true, np.round(y_pred))\n",
        "precision = precision_score(y_true, np.round(y_pred))\n",
        "recall = recall_score(y_true, np.round(y_pred))\n",
        "f1 = f1_score(y_true, np.round(y_pred))\n",
        "auc_roc = metrics.roc_auc_score(y_true, y_pred)\n",
        "\n",
        "print(\"\\nMetrics:\")\n",
        "print(f\"Accuracy: {accuracy:.4f}\")\n",
        "print(f\"Precision: {precision:.4f}\")\n",
        "print(f\"Recall: {recall:.4f}\")\n",
        "print(f\"F1 Score: {f1:.4f}\")\n",
        "print(f\"AUC-ROC: {auc_roc:.4f}\")\n",
        "\n",
        "# Confusion Matrix\n",
        "conf_matrix = confusion_matrix(y_true, np.round(y_pred))\n",
        "print(\"Confusion Matrix:\")\n",
        "print(conf_matrix)\n",
        "\n",
        "# Classification Report\n",
        "class_report = classification_report(y_true, np.round(y_pred), target_names=['benign', 'malignant'])\n",
        "print(\"Classification Report:\")\n",
        "print(class_report)\n",
        "\n",
        "# Heatmap\n",
        "sns.heatmap(conf_matrix, annot=True, fmt='d', cmap='Blues', xticklabels=['0', '1'], yticklabels=['0', '1'])\n",
        "plt.title('Confusion Matrix Heatmap')\n",
        "plt.xlabel('Predicted')\n",
        "plt.ylabel('True')\n",
        "plt.show()\n",
        "\n"
      ],
      "metadata": {
        "colab": {
          "base_uri": "https://localhost:8080/",
          "height": 871
        },
        "id": "GrBSEQhnsyO9",
        "outputId": "72acc683-6bab-498b-84de-19ebb1ef97e4"
      },
      "execution_count": 10,
      "outputs": [
        {
          "output_type": "stream",
          "name": "stdout",
          "text": [
            "Found 100 images belonging to 2 classes.\n",
            "4/4 [==============================] - 32s 11s/step - loss: 0.0000e+00 - accuracy: 0.0000e+00\n",
            "4/4 [==============================] - 1s 231ms/step\n",
            "\n",
            "Metrics:\n",
            "Accuracy: 0.4900\n",
            "Precision: 0.4762\n",
            "Recall: 0.2000\n",
            "F1 Score: 0.2817\n",
            "AUC-ROC: 0.4612\n",
            "Confusion Matrix:\n",
            "[[39 11]\n",
            " [40 10]]\n",
            "Classification Report:\n",
            "              precision    recall  f1-score   support\n",
            "\n",
            "      benign       0.49      0.78      0.60        50\n",
            "   malignant       0.48      0.20      0.28        50\n",
            "\n",
            "    accuracy                           0.49       100\n",
            "   macro avg       0.48      0.49      0.44       100\n",
            "weighted avg       0.48      0.49      0.44       100\n",
            "\n"
          ]
        },
        {
          "output_type": "display_data",
          "data": {
            "text/plain": [
              "<Figure size 640x480 with 2 Axes>"
            ],
            "image/png": "[encoded data removed]"
          },
          "metadata": {}
        }
      ]
    }
  ]
}